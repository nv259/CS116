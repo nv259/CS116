{
  "cells": [
    {
      "cell_type": "code",
      "source": [
        "!git clone https://github.com/nv259/CS116.git\n",
        "%cd CS116/week1"
      ],
      "metadata": {
        "colab": {
          "base_uri": "https://localhost:8080/"
        },
        "id": "HoSJfmrKc8qB",
        "outputId": "79bc27e3-23b8-4760-a25d-4088655d024e"
      },
      "execution_count": 1,
      "outputs": [
        {
          "output_type": "stream",
          "name": "stdout",
          "text": [
            "Cloning into 'CS116'...\n",
            "remote: Enumerating objects: 33, done.\u001b[K\n",
            "remote: Counting objects: 100% (33/33), done.\u001b[K\n",
            "remote: Compressing objects: 100% (22/22), done.\u001b[K\n",
            "remote: Total 33 (delta 7), reused 26 (delta 4), pack-reused 0\u001b[K\n",
            "Receiving objects: 100% (33/33), 357.52 KiB | 1.42 MiB/s, done.\n",
            "Resolving deltas: 100% (7/7), done.\n",
            "/content/CS116/week1\n"
          ]
        }
      ]
    },
    {
      "cell_type": "markdown",
      "metadata": {
        "id": "LwbwjOLpyLEi"
      },
      "source": [
        "\n",
        "# TIỀN XỬ LÝ DỮ LIỆU (PHẦN 1)"
      ]
    },
    {
      "cell_type": "markdown",
      "metadata": {
        "id": "gOyTiugYx9BC"
      },
      "source": [
        "Trong lĩnh vực machine learning, việc tiền xử lý dữ liệu đóng vai trò quan trọng để xây dựng những mô hình chính xác và mạnh mẽ. Dữ liệu thô thường gặp phải tình trạng lộn xộn, thiếu sót và không nhất quán. Tiền xử lý dữ liệu bao gồm một loạt các kỹ thuật và nhiệm vụ nhằm biến đổi và tinh chỉnh dữ liệu thô thành một định dạng thích hợp, chuẩn bị cho việc phân tích và huấn luyện mô hình.\n",
        "\n",
        "Bằng cách giải quyết các vấn đề như giá trị thiếu, các ngoại lệ và tỷ lệ biến đổi khác nhau, việc tiền xử lý đảm bảo chất lượng dữ liệu được cải thiện, dẫn đến hiệu suất mô hình cải thiện.\n",
        "\n",
        "Trong cuốn sổ tay Jupyter này, chúng ta sẽ đào sâu vào các bước cơ bản của tiền xử lý dữ liệu. Chúng ta sẽ làm việc thông qua một bài tập thực tế bằng Python, nơi chúng ta sẽ tập trung vào 2 nhiệm vụ cơ bản:\n",
        "\n",
        "* Xác định và xử lý giá trị bị thiếu\n",
        "* Chuẩn hóa dữ liệu\n",
        "\n",
        "Khi kết thúc bài tập này, bạn sẽ đã có được kinh nghiệm thực tế trong việc đánh giá, làm sạch và biến đổi dữ liệu thô thành một định dạng thích hợp cho việc học máy. Những kỹ năng này là nền tảng trong hành trình khoa học dữ liệu, vì chúng đặt ra sân khấu cho các kỹ thuật nâng cao hơn và việc xây dựng mô hình. Vậy thì, hãy bắt đầu và học nghệ thuật tiền xử lý dữ liệu để mở khóa tiềm năng thực sự của những nỗ lực trong lĩnh vực học máy của bạn."
      ]
    },
    {
      "cell_type": "markdown",
      "metadata": {
        "id": "VsjvfCQwx9BF"
      },
      "source": [
        "### 1. Tải dữ liệu"
      ]
    },
    {
      "cell_type": "markdown",
      "metadata": {
        "id": "6U-6vxuHx9BG"
      },
      "source": [
        "Dữ liệu được sử dụng sẽ là dữ liệu về giá nhà, cụ thể như sau:"
      ]
    },
    {
      "cell_type": "code",
      "execution_count": 2,
      "metadata": {
        "id": "IPTB2Qa5x9BG",
        "colab": {
          "base_uri": "https://localhost:8080/",
          "height": 206
        },
        "outputId": "d29c3077-a4eb-4b66-a38e-96460274408c"
      },
      "outputs": [
        {
          "output_type": "execute_result",
          "data": {
            "text/plain": [
              "   longitude  latitude  housing_median_age  total_rooms  total_bedrooms  \\\n",
              "0    -122.23     37.88                41.0          NaN           129.0   \n",
              "1        NaN     37.86                21.0       7099.0          1106.0   \n",
              "2    -122.24     37.85                 NaN          NaN           190.0   \n",
              "3    -122.25     37.85                 NaN          NaN           235.0   \n",
              "4    -122.25       NaN                52.0          NaN           280.0   \n",
              "\n",
              "   population  households  median_income  median_house_value  \n",
              "0         NaN         NaN         8.3252            452600.0  \n",
              "1         NaN         NaN         8.3014            358500.0  \n",
              "2         NaN         NaN         7.2574            352100.0  \n",
              "3         NaN         NaN         5.6431            341300.0  \n",
              "4       565.0       259.0         3.8462            342200.0  "
            ],
            "text/html": [
              "\n",
              "  <div id=\"df-bd71ad9b-4f5c-4cc3-aaa7-d98721a51d64\" class=\"colab-df-container\">\n",
              "    <div>\n",
              "<style scoped>\n",
              "    .dataframe tbody tr th:only-of-type {\n",
              "        vertical-align: middle;\n",
              "    }\n",
              "\n",
              "    .dataframe tbody tr th {\n",
              "        vertical-align: top;\n",
              "    }\n",
              "\n",
              "    .dataframe thead th {\n",
              "        text-align: right;\n",
              "    }\n",
              "</style>\n",
              "<table border=\"1\" class=\"dataframe\">\n",
              "  <thead>\n",
              "    <tr style=\"text-align: right;\">\n",
              "      <th></th>\n",
              "      <th>longitude</th>\n",
              "      <th>latitude</th>\n",
              "      <th>housing_median_age</th>\n",
              "      <th>total_rooms</th>\n",
              "      <th>total_bedrooms</th>\n",
              "      <th>population</th>\n",
              "      <th>households</th>\n",
              "      <th>median_income</th>\n",
              "      <th>median_house_value</th>\n",
              "    </tr>\n",
              "  </thead>\n",
              "  <tbody>\n",
              "    <tr>\n",
              "      <th>0</th>\n",
              "      <td>-122.23</td>\n",
              "      <td>37.88</td>\n",
              "      <td>41.0</td>\n",
              "      <td>NaN</td>\n",
              "      <td>129.0</td>\n",
              "      <td>NaN</td>\n",
              "      <td>NaN</td>\n",
              "      <td>8.3252</td>\n",
              "      <td>452600.0</td>\n",
              "    </tr>\n",
              "    <tr>\n",
              "      <th>1</th>\n",
              "      <td>NaN</td>\n",
              "      <td>37.86</td>\n",
              "      <td>21.0</td>\n",
              "      <td>7099.0</td>\n",
              "      <td>1106.0</td>\n",
              "      <td>NaN</td>\n",
              "      <td>NaN</td>\n",
              "      <td>8.3014</td>\n",
              "      <td>358500.0</td>\n",
              "    </tr>\n",
              "    <tr>\n",
              "      <th>2</th>\n",
              "      <td>-122.24</td>\n",
              "      <td>37.85</td>\n",
              "      <td>NaN</td>\n",
              "      <td>NaN</td>\n",
              "      <td>190.0</td>\n",
              "      <td>NaN</td>\n",
              "      <td>NaN</td>\n",
              "      <td>7.2574</td>\n",
              "      <td>352100.0</td>\n",
              "    </tr>\n",
              "    <tr>\n",
              "      <th>3</th>\n",
              "      <td>-122.25</td>\n",
              "      <td>37.85</td>\n",
              "      <td>NaN</td>\n",
              "      <td>NaN</td>\n",
              "      <td>235.0</td>\n",
              "      <td>NaN</td>\n",
              "      <td>NaN</td>\n",
              "      <td>5.6431</td>\n",
              "      <td>341300.0</td>\n",
              "    </tr>\n",
              "    <tr>\n",
              "      <th>4</th>\n",
              "      <td>-122.25</td>\n",
              "      <td>NaN</td>\n",
              "      <td>52.0</td>\n",
              "      <td>NaN</td>\n",
              "      <td>280.0</td>\n",
              "      <td>565.0</td>\n",
              "      <td>259.0</td>\n",
              "      <td>3.8462</td>\n",
              "      <td>342200.0</td>\n",
              "    </tr>\n",
              "  </tbody>\n",
              "</table>\n",
              "</div>\n",
              "    <div class=\"colab-df-buttons\">\n",
              "\n",
              "  <div class=\"colab-df-container\">\n",
              "    <button class=\"colab-df-convert\" onclick=\"convertToInteractive('df-bd71ad9b-4f5c-4cc3-aaa7-d98721a51d64')\"\n",
              "            title=\"Convert this dataframe to an interactive table.\"\n",
              "            style=\"display:none;\">\n",
              "\n",
              "  <svg xmlns=\"http://www.w3.org/2000/svg\" height=\"24px\" viewBox=\"0 -960 960 960\">\n",
              "    <path d=\"M120-120v-720h720v720H120Zm60-500h600v-160H180v160Zm220 220h160v-160H400v160Zm0 220h160v-160H400v160ZM180-400h160v-160H180v160Zm440 0h160v-160H620v160ZM180-180h160v-160H180v160Zm440 0h160v-160H620v160Z\"/>\n",
              "  </svg>\n",
              "    </button>\n",
              "\n",
              "  <style>\n",
              "    .colab-df-container {\n",
              "      display:flex;\n",
              "      gap: 12px;\n",
              "    }\n",
              "\n",
              "    .colab-df-convert {\n",
              "      background-color: #E8F0FE;\n",
              "      border: none;\n",
              "      border-radius: 50%;\n",
              "      cursor: pointer;\n",
              "      display: none;\n",
              "      fill: #1967D2;\n",
              "      height: 32px;\n",
              "      padding: 0 0 0 0;\n",
              "      width: 32px;\n",
              "    }\n",
              "\n",
              "    .colab-df-convert:hover {\n",
              "      background-color: #E2EBFA;\n",
              "      box-shadow: 0px 1px 2px rgba(60, 64, 67, 0.3), 0px 1px 3px 1px rgba(60, 64, 67, 0.15);\n",
              "      fill: #174EA6;\n",
              "    }\n",
              "\n",
              "    .colab-df-buttons div {\n",
              "      margin-bottom: 4px;\n",
              "    }\n",
              "\n",
              "    [theme=dark] .colab-df-convert {\n",
              "      background-color: #3B4455;\n",
              "      fill: #D2E3FC;\n",
              "    }\n",
              "\n",
              "    [theme=dark] .colab-df-convert:hover {\n",
              "      background-color: #434B5C;\n",
              "      box-shadow: 0px 1px 3px 1px rgba(0, 0, 0, 0.15);\n",
              "      filter: drop-shadow(0px 1px 2px rgba(0, 0, 0, 0.3));\n",
              "      fill: #FFFFFF;\n",
              "    }\n",
              "  </style>\n",
              "\n",
              "    <script>\n",
              "      const buttonEl =\n",
              "        document.querySelector('#df-bd71ad9b-4f5c-4cc3-aaa7-d98721a51d64 button.colab-df-convert');\n",
              "      buttonEl.style.display =\n",
              "        google.colab.kernel.accessAllowed ? 'block' : 'none';\n",
              "\n",
              "      async function convertToInteractive(key) {\n",
              "        const element = document.querySelector('#df-bd71ad9b-4f5c-4cc3-aaa7-d98721a51d64');\n",
              "        const dataTable =\n",
              "          await google.colab.kernel.invokeFunction('convertToInteractive',\n",
              "                                                    [key], {});\n",
              "        if (!dataTable) return;\n",
              "\n",
              "        const docLinkHtml = 'Like what you see? Visit the ' +\n",
              "          '<a target=\"_blank\" href=https://colab.research.google.com/notebooks/data_table.ipynb>data table notebook</a>'\n",
              "          + ' to learn more about interactive tables.';\n",
              "        element.innerHTML = '';\n",
              "        dataTable['output_type'] = 'display_data';\n",
              "        await google.colab.output.renderOutput(dataTable, element);\n",
              "        const docLink = document.createElement('div');\n",
              "        docLink.innerHTML = docLinkHtml;\n",
              "        element.appendChild(docLink);\n",
              "      }\n",
              "    </script>\n",
              "  </div>\n",
              "\n",
              "\n",
              "<div id=\"df-0eb7431e-b2a7-470a-a359-060fdced017f\">\n",
              "  <button class=\"colab-df-quickchart\" onclick=\"quickchart('df-0eb7431e-b2a7-470a-a359-060fdced017f')\"\n",
              "            title=\"Suggest charts.\"\n",
              "            style=\"display:none;\">\n",
              "\n",
              "<svg xmlns=\"http://www.w3.org/2000/svg\" height=\"24px\"viewBox=\"0 0 24 24\"\n",
              "     width=\"24px\">\n",
              "    <g>\n",
              "        <path d=\"M19 3H5c-1.1 0-2 .9-2 2v14c0 1.1.9 2 2 2h14c1.1 0 2-.9 2-2V5c0-1.1-.9-2-2-2zM9 17H7v-7h2v7zm4 0h-2V7h2v10zm4 0h-2v-4h2v4z\"/>\n",
              "    </g>\n",
              "</svg>\n",
              "  </button>\n",
              "\n",
              "<style>\n",
              "  .colab-df-quickchart {\n",
              "      --bg-color: #E8F0FE;\n",
              "      --fill-color: #1967D2;\n",
              "      --hover-bg-color: #E2EBFA;\n",
              "      --hover-fill-color: #174EA6;\n",
              "      --disabled-fill-color: #AAA;\n",
              "      --disabled-bg-color: #DDD;\n",
              "  }\n",
              "\n",
              "  [theme=dark] .colab-df-quickchart {\n",
              "      --bg-color: #3B4455;\n",
              "      --fill-color: #D2E3FC;\n",
              "      --hover-bg-color: #434B5C;\n",
              "      --hover-fill-color: #FFFFFF;\n",
              "      --disabled-bg-color: #3B4455;\n",
              "      --disabled-fill-color: #666;\n",
              "  }\n",
              "\n",
              "  .colab-df-quickchart {\n",
              "    background-color: var(--bg-color);\n",
              "    border: none;\n",
              "    border-radius: 50%;\n",
              "    cursor: pointer;\n",
              "    display: none;\n",
              "    fill: var(--fill-color);\n",
              "    height: 32px;\n",
              "    padding: 0;\n",
              "    width: 32px;\n",
              "  }\n",
              "\n",
              "  .colab-df-quickchart:hover {\n",
              "    background-color: var(--hover-bg-color);\n",
              "    box-shadow: 0 1px 2px rgba(60, 64, 67, 0.3), 0 1px 3px 1px rgba(60, 64, 67, 0.15);\n",
              "    fill: var(--button-hover-fill-color);\n",
              "  }\n",
              "\n",
              "  .colab-df-quickchart-complete:disabled,\n",
              "  .colab-df-quickchart-complete:disabled:hover {\n",
              "    background-color: var(--disabled-bg-color);\n",
              "    fill: var(--disabled-fill-color);\n",
              "    box-shadow: none;\n",
              "  }\n",
              "\n",
              "  .colab-df-spinner {\n",
              "    border: 2px solid var(--fill-color);\n",
              "    border-color: transparent;\n",
              "    border-bottom-color: var(--fill-color);\n",
              "    animation:\n",
              "      spin 1s steps(1) infinite;\n",
              "  }\n",
              "\n",
              "  @keyframes spin {\n",
              "    0% {\n",
              "      border-color: transparent;\n",
              "      border-bottom-color: var(--fill-color);\n",
              "      border-left-color: var(--fill-color);\n",
              "    }\n",
              "    20% {\n",
              "      border-color: transparent;\n",
              "      border-left-color: var(--fill-color);\n",
              "      border-top-color: var(--fill-color);\n",
              "    }\n",
              "    30% {\n",
              "      border-color: transparent;\n",
              "      border-left-color: var(--fill-color);\n",
              "      border-top-color: var(--fill-color);\n",
              "      border-right-color: var(--fill-color);\n",
              "    }\n",
              "    40% {\n",
              "      border-color: transparent;\n",
              "      border-right-color: var(--fill-color);\n",
              "      border-top-color: var(--fill-color);\n",
              "    }\n",
              "    60% {\n",
              "      border-color: transparent;\n",
              "      border-right-color: var(--fill-color);\n",
              "    }\n",
              "    80% {\n",
              "      border-color: transparent;\n",
              "      border-right-color: var(--fill-color);\n",
              "      border-bottom-color: var(--fill-color);\n",
              "    }\n",
              "    90% {\n",
              "      border-color: transparent;\n",
              "      border-bottom-color: var(--fill-color);\n",
              "    }\n",
              "  }\n",
              "</style>\n",
              "\n",
              "  <script>\n",
              "    async function quickchart(key) {\n",
              "      const quickchartButtonEl =\n",
              "        document.querySelector('#' + key + ' button');\n",
              "      quickchartButtonEl.disabled = true;  // To prevent multiple clicks.\n",
              "      quickchartButtonEl.classList.add('colab-df-spinner');\n",
              "      try {\n",
              "        const charts = await google.colab.kernel.invokeFunction(\n",
              "            'suggestCharts', [key], {});\n",
              "      } catch (error) {\n",
              "        console.error('Error during call to suggestCharts:', error);\n",
              "      }\n",
              "      quickchartButtonEl.classList.remove('colab-df-spinner');\n",
              "      quickchartButtonEl.classList.add('colab-df-quickchart-complete');\n",
              "    }\n",
              "    (() => {\n",
              "      let quickchartButtonEl =\n",
              "        document.querySelector('#df-0eb7431e-b2a7-470a-a359-060fdced017f button');\n",
              "      quickchartButtonEl.style.display =\n",
              "        google.colab.kernel.accessAllowed ? 'block' : 'none';\n",
              "    })();\n",
              "  </script>\n",
              "</div>\n",
              "    </div>\n",
              "  </div>\n"
            ]
          },
          "metadata": {},
          "execution_count": 2
        }
      ],
      "source": [
        "import pandas as pd\n",
        "\n",
        "data_path = \"data/housing.csv\"\n",
        "df = pd.read_csv(data_path, index_col=0)\n",
        "df_test = df.copy()\n",
        "df.head()"
      ]
    },
    {
      "cell_type": "markdown",
      "metadata": {
        "id": "iqDzzUZwx9BH"
      },
      "source": [
        "### 2. Xác định số phần tử bị thiếu ở mỗi cột"
      ]
    },
    {
      "cell_type": "code",
      "execution_count": 3,
      "metadata": {
        "id": "NPWJvxZIx9BH",
        "colab": {
          "base_uri": "https://localhost:8080/"
        },
        "outputId": "6ddb8552-916d-4af8-929c-1885f648a43a"
      },
      "outputs": [
        {
          "output_type": "execute_result",
          "data": {
            "text/plain": [
              "longitude              6826\n",
              "latitude               5020\n",
              "housing_median_age     7711\n",
              "total_rooms           13089\n",
              "total_bedrooms          432\n",
              "population            13206\n",
              "households            15149\n",
              "median_income          2145\n",
              "median_house_value     5227\n",
              "dtype: int64"
            ]
          },
          "metadata": {},
          "execution_count": 3
        }
      ],
      "source": [
        "# Liệt kê số phần tử bị thiếu ở mỗi cột\n",
        "df.isna().sum()"
      ]
    },
    {
      "cell_type": "markdown",
      "metadata": {
        "id": "eqKArO73x9BI"
      },
      "source": [
        "### 3. Loại bỏ những cột có nhiều giá trị bị thiếu"
      ]
    },
    {
      "cell_type": "markdown",
      "metadata": {
        "id": "Pmc9XRstx9BI"
      },
      "source": [
        "**Bài tập**: Hãy viết hàm nhận vào `dataframe` và `threshold` (ngưỡng phần trăm).\n",
        "Trả về `dataframe` mới sau khi đã loại bỏ hết tất cả các cột mà tỉ lệ phần\n",
        "trăm giá trị bị thiếu vượt qua `threshold`."
      ]
    },
    {
      "cell_type": "code",
      "execution_count": 4,
      "metadata": {
        "id": "d8_TD6b8x9BI"
      },
      "outputs": [],
      "source": [
        "def drop_sparse_columns(df: pd.DataFrame, threshold: float) -> pd.DataFrame:\n",
        "\n",
        "\n",
        "    # BEGIN SOLUTION\n",
        "    res_df = df.copy()\n",
        "\n",
        "    for col in df.columns:\n",
        "      if (df[col].isna().sum() / df[col].count()) > threshold:\n",
        "        res_df = res_df.drop(labels=col, axis=1)\n",
        "\n",
        "    return res_df\n",
        "    # END SOLUTION\n",
        "    pass"
      ]
    },
    {
      "cell_type": "markdown",
      "metadata": {
        "id": "wCLhsP8kx9BI"
      },
      "source": [
        "Ta tiến hành loại bỏ những cột có nhiều giá trị bị thiếu"
      ]
    },
    {
      "cell_type": "code",
      "execution_count": 5,
      "metadata": {
        "id": "YZnCp4H6x9BJ"
      },
      "outputs": [],
      "source": [
        "# Nếu cột có phần trăm giá trị bị thiếu > 60% thì sẽ bị loại bỏ\n",
        "threshold = 0.6\n",
        "df = drop_sparse_columns(df, threshold)"
      ]
    },
    {
      "cell_type": "code",
      "execution_count": 6,
      "metadata": {
        "id": "RLWlfDJLx9BJ"
      },
      "outputs": [],
      "source": [
        "# Kiểm tra với public tests\n",
        "assert df.shape[1] == 6"
      ]
    },
    {
      "cell_type": "code",
      "execution_count": 7,
      "metadata": {
        "id": "YvD4ssSNx9BJ",
        "colab": {
          "base_uri": "https://localhost:8080/"
        },
        "outputId": "2e70553d-9c3d-4afb-a418-d9029d2b1ce4"
      },
      "outputs": [
        {
          "output_type": "execute_result",
          "data": {
            "text/plain": [
              "longitude             6826\n",
              "latitude              5020\n",
              "housing_median_age    7711\n",
              "total_bedrooms         432\n",
              "median_income         2145\n",
              "median_house_value    5227\n",
              "dtype: int64"
            ]
          },
          "metadata": {},
          "execution_count": 7
        }
      ],
      "source": [
        "# Sau khi đã loại bỏ những cột không cần thiết do chứa quá nhiều giá trị bị thiếu\n",
        "df.isna().sum()"
      ]
    },
    {
      "cell_type": "markdown",
      "metadata": {
        "id": "PfDyzmQ9x9BJ"
      },
      "source": [
        "### 4. Lắp đầy những giá trị thiếu ở những cột còn lại"
      ]
    },
    {
      "cell_type": "markdown",
      "metadata": {
        "id": "UFQ6zJtbx9BJ"
      },
      "source": [
        "**Bài tập**: Hãy viết các hàm thực hiện điền giá trị bị thiếu vào `dataframe` ứng với\n",
        "với các chiến lược sau: ***min imputation***, ***max imputation***, ***mean imputation***, ***zero imputation***."
      ]
    },
    {
      "cell_type": "code",
      "execution_count": 8,
      "metadata": {
        "id": "B8cXz3K6x9BJ"
      },
      "outputs": [],
      "source": [
        "def fill_with_min(df: pd.DataFrame) -> pd.DataFrame:\n",
        "\n",
        "    ### BEGIN SOLUTION\n",
        "    res = df.fillna(df.min())\n",
        "    return res\n",
        "    ### END SOLUTION\n",
        "    pass\n",
        "\n",
        "def fill_with_max(df: pd.DataFrame) -> pd.DataFrame:\n",
        "\n",
        "    ### BEGIN SOLUTION\n",
        "    res = df.fillna(df.max())\n",
        "    return res\n",
        "    ### END SOLUTION\n",
        "    pass\n",
        "\n",
        "def fill_with_mean(df: pd.DataFrame) -> pd.DataFrame:\n",
        "\n",
        "    ### BEGIN SOLUTION\n",
        "    res = df.fillna(df.mean())\n",
        "    return res\n",
        "    ### END SOLUTION\n",
        "    pass\n",
        "\n",
        "def fill_with_zero(df: pd.DataFrame) -> pd.DataFrame:\n",
        "\n",
        "    ### BEGIN SOLUTION\n",
        "    res = df.fillna(0)\n",
        "    return res\n",
        "    ### END SOLUTION\n",
        "    pass"
      ]
    },
    {
      "cell_type": "markdown",
      "metadata": {
        "id": "48xPx7QOx9BK"
      },
      "source": [
        "Ta gọi hàm và tạo những `dataframe` mới ứng với từng kiểu điền rỗng"
      ]
    },
    {
      "cell_type": "code",
      "execution_count": 9,
      "metadata": {
        "id": "IzXSFk24x9BK"
      },
      "outputs": [],
      "source": [
        "min_filled_df = fill_with_min(df)\n",
        "max_filled_df = fill_with_max(df)\n",
        "mean_filled_df = fill_with_mean(df)\n",
        "zero_filled_df = fill_with_zero(df)"
      ]
    },
    {
      "cell_type": "code",
      "execution_count": 10,
      "metadata": {
        "id": "u15m8awox9BK"
      },
      "outputs": [],
      "source": [
        "# Kiểm tra với public tests\n",
        "assert not min_filled_df.isna().any().any()\n",
        "assert not max_filled_df.isna().any().any()\n",
        "assert not mean_filled_df.isna().any().any()\n",
        "assert not zero_filled_df.isna().any().any()"
      ]
    },
    {
      "cell_type": "markdown",
      "metadata": {
        "id": "wHlRCFAKx9BK"
      },
      "source": [
        "## 4. Chuẩn hóa dữ liệu\n",
        "Các đặc trưng thường đi kèm với các tỷ lệ biến đổi khác nhau, điều này có thể dẫn đến mô hình thiên vị. Chúng ta sẽ khám phá các kỹ thuật chuẩn hóa phổ biến\n",
        "\n",
        "- Min-Max Scaling: Nó biến đổi các giá trị trong tập dữ liệu về các giá trị trong khoảng từ 0 đến 1.\n",
        "$$ x_{scaled} = {x-x_{min} \\over x_{max} - x_{min}} $$\n",
        "\n",
        "\n",
        ">>>| x | $x_{scaled}$ |\n",
        "|:--------:|:--------:|\n",
        "| 10       | 0.0      |\n",
        "| -20       | 0.5      |\n",
        "| 35       | 0.25      |\n",
        "| 48       | 1.0      |\n",
        "| 53       | 0.75      |\n",
        "\n",
        "- Standard Scaling (Z-score normalization): Nó tính toán giá trị trung bình và độ lệch chuẩn của tập dữ liệu và chuẩn hóa nó bằng cách trừ giá trị trung bình và chia cho độ lệch chuẩn.\n",
        "\n",
        "$$ x_{scaled} = {x- mean_x \\over std_x} $$\n",
        "\n",
        ">>>| x | $x_{scaled}$ |\n",
        "|:--------:|:--------:|\n",
        "| 10       | -0.56     |\n",
        "| -20       | -1.67      |\n",
        "| 35       | 0.36      |\n",
        "| 48       | 0.84     |\n",
        "| 53       | 1.03      |\n",
        "\n",
        " >>>$mean_x=$25.2, $std_x \\approx$27.0658\n",
        "\n",
        " >>>$mean_{x_{scaled}} \\approx$0, $std_{x_{scaled}} \\approx$1\n",
        "\n",
        "- Robust Scaling: RobustScaler là một kỹ thuật sử dụng trung vị và quartiles để giải quyết các bias từ các giá trị ngoại lệ.\n",
        "\n",
        "$$ x_{scaled} = {x-x_{median} \\over x_{75} - x_{25}} $$\n",
        "\n",
        ">>>| x | $x_{scaled}$ |\n",
        "|:--------:|:--------:|\n",
        "| 10       | -0.66     |\n",
        "| -20       | -1.45      |\n",
        "| 35       | 0.0      |\n",
        "| 48       | 0.34     |\n",
        "| 53       | 0.47      |\n",
        "\n",
        "![anh](https://i.imgur.com/MARX2bg.png)\n",
        "\n",
        " Những kỹ thuật này sẽ giúp đưa các đặc trưng về một tỷ lệ chung, ngăn chặn bất kỳ đặc trưng nào chiếm ưu thế trong quá trình học."
      ]
    },
    {
      "cell_type": "markdown",
      "metadata": {
        "id": "aByZhZ4Dx9BK"
      },
      "source": [
        "**Bài tập**: Hãy viết hàm nhận vào `dataframe` và một `object` thuộc một trong ba\n",
        "scaler đã được import bên dưới và trả vể dataframe đã được chuẩn hóa sử dụng scaler đó."
      ]
    },
    {
      "cell_type": "code",
      "execution_count": 11,
      "metadata": {
        "id": "nmQLxzz-x9BK"
      },
      "outputs": [],
      "source": [
        "# Sử dụng các class scaler có từ thư viện sklearn\n",
        "from sklearn.preprocessing import MinMaxScaler, StandardScaler, RobustScaler\n",
        "import numpy as np"
      ]
    },
    {
      "cell_type": "code",
      "execution_count": 12,
      "metadata": {
        "id": "hoxgX0Buw68x",
        "colab": {
          "base_uri": "https://localhost:8080/"
        },
        "outputId": "06cee5d7-b4ee-48b6-ade5-7be0d5a5f006"
      },
      "outputs": [
        {
          "output_type": "stream",
          "name": "stdout",
          "text": [
            "    Column1\n",
            "0 -0.657895\n",
            "1 -1.447368\n",
            "2  0.000000\n",
            "3  0.342105\n",
            "4  0.473684\n"
          ]
        }
      ],
      "source": [
        "import pandas as pd\n",
        "from sklearn.preprocessing import StandardScaler\n",
        "\n",
        "# Tạo DataFrame với một cột dữ liệu\n",
        "data = {'Column1': [10, -20, 35, 48, 53]}\n",
        "df = pd.DataFrame(data)\n",
        "\n",
        "# Khởi tạo StandardScaler\n",
        "scaler = RobustScaler()\n",
        "\n",
        "# Áp dụng StandardScaler vào cột dữ liệu\n",
        "scaled_data = df.apply(lambda col: scaler.fit_transform(col.values.reshape(-1, 1)).flatten())\n",
        "\n",
        "# In kết quả\n",
        "print(scaled_data)"
      ]
    },
    {
      "cell_type": "code",
      "execution_count": 15,
      "metadata": {
        "id": "2hCRLIGlx9BK"
      },
      "outputs": [],
      "source": [
        "def scale(df: pd.DataFrame, scaler) -> pd.DataFrame:\n",
        "    ### BEGIN SOLUTION\n",
        "    scaled_data = scaler.fit_transform(df)\n",
        "    df = pd.DataFrame(scaled_data, index=df.index, columns=df.columns)\n",
        "    return df\n",
        "    ### END SOLUTION\n",
        "    pass"
      ]
    },
    {
      "cell_type": "markdown",
      "metadata": {
        "id": "iqLvNEYlx9BK"
      },
      "source": [
        "Tiến hành tạo các `dataframe` ứng với từng kiểu chuẩn hóa"
      ]
    },
    {
      "cell_type": "code",
      "execution_count": 16,
      "metadata": {
        "id": "IshiE5CBx9BL"
      },
      "outputs": [],
      "source": [
        "minmax_scaled_df = scale(mean_filled_df, MinMaxScaler())\n",
        "standard_scaled_df = scale(mean_filled_df, StandardScaler())\n",
        "robust_scaled_df = scale(mean_filled_df, RobustScaler())"
      ]
    },
    {
      "cell_type": "code",
      "source": [],
      "metadata": {
        "id": "FrhZzgHKtZyc"
      },
      "execution_count": null,
      "outputs": []
    }
  ],
  "metadata": {
    "colab": {
      "provenance": []
    },
    "kernelspec": {
      "display_name": "Python 3",
      "language": "python",
      "name": "python3"
    },
    "language_info": {
      "codemirror_mode": {
        "name": "ipython",
        "version": 3
      },
      "file_extension": ".py",
      "mimetype": "text/x-python",
      "name": "python",
      "nbconvert_exporter": "python",
      "pygments_lexer": "ipython3",
      "version": "3.10.6"
    },
    "orig_nbformat": 4
  },
  "nbformat": 4,
  "nbformat_minor": 0
}